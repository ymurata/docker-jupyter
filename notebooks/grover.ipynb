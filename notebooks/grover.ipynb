{
 "cells": [
  {
   "cell_type": "code",
   "execution_count": 382,
   "metadata": {},
   "outputs": [],
   "source": [
    "from cirq import LineQubit, Circuit, Simulator, measure\n",
    "from cirq.ops import X, Z, H, CNOT, ControlledGate\n",
    "from cirq.google import XmonSimulator\n",
    "\n",
    "q0, q1 = [LineQubit(x) for x in range(2)]\n",
    "\n",
    "def oracle(search_bit):\n",
    "    if search_bit not in ['00', '01', '10', '11']:\n",
    "        raise Exception('%s is invalid format' % search_bit)\n",
    "        \n",
    "    if search_bit == '00':\n",
    "        yield X(q0), X(q1)\n",
    "        yield ControlledGate(Z)(q0, q1)\n",
    "        yield X(q0), X(q1)\n",
    "        return\n",
    "    \n",
    "    if search_bit == '01':\n",
    "        yield ControlledGate(Z)(q1, q0)\n",
    "        return\n",
    "    \n",
    "    if search_bit == '10':\n",
    "        yield X(q0), X(q1)\n",
    "        yield ControlledGate(Z)(q1, q0)\n",
    "        yield X(q0), X(q1)\n",
    "        return\n",
    "    \n",
    "    if search_bit == '11':\n",
    "        yield ControlledGate(Z)(q0, q1)\n",
    "        return\n",
    "    \n",
    "def grover_unit(search_bit):\n",
    "    yield oracle(search_bit)\n",
    "    yield H(q0), H(q1)\n",
    "    yield ControlledGate(Z)(q1, q0)\n",
    "    yield H(q0), H(q1)\n",
    "    \n",
    "\n",
    "def create_circuit_of_grover(search_bit):\n",
    "    yield H(q0), H(q1)\n",
    "    yield grover_unit(search_bit)\n",
    "    yield H(q0), H(q1)\n",
    "    yield measure(q0, key='q0'), measure(q1, key='q1')"
   ]
  },
  {
   "cell_type": "code",
   "execution_count": 393,
   "metadata": {},
   "outputs": [
    {
     "name": "stdout",
     "output_type": "stream",
     "text": [
      "0: ───H───Z───H───Z───H───H───M('q0')───\n",
      "          │       │\n",
      "1: ───H───@───H───@───H───H───M('q1')───\n",
      "q0=1\n",
      "q1=1\n"
     ]
    }
   ],
   "source": [
    "SEARCH_BIT = '01'\n",
    "circuit = Circuit()\n",
    "circuit.append(create_circuit_of_grover(SEARCH_BIT))\n",
    "simulator = Simulator()\n",
    "print(circuit)\n",
    "print(simulator.run(circuit))"
   ]
  },
  {
   "cell_type": "code",
   "execution_count": null,
   "metadata": {},
   "outputs": [],
   "source": []
  },
  {
   "cell_type": "code",
   "execution_count": null,
   "metadata": {},
   "outputs": [],
   "source": []
  }
 ],
 "metadata": {
  "kernelspec": {
   "display_name": "Python 3",
   "language": "python",
   "name": "python3"
  },
  "language_info": {
   "codemirror_mode": {
    "name": "ipython",
    "version": 3
   },
   "file_extension": ".py",
   "mimetype": "text/x-python",
   "name": "python",
   "nbconvert_exporter": "python",
   "pygments_lexer": "ipython3",
   "version": "3.6.6"
  }
 },
 "nbformat": 4,
 "nbformat_minor": 2
}
