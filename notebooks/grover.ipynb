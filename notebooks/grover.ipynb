{
 "cells": [
  {
   "cell_type": "code",
   "execution_count": 4,
   "metadata": {},
   "outputs": [],
   "source": [
    "from cirq import LineQubit, Circuit, Simulator, measure\n",
    "from cirq.ops import X,  H, CNOT, TOFFOLI\n",
    "from cirq.google import XmonSimulator\n",
    "\n",
    "q0, q1, q2 = [LineQubit(x) for x in range(3)]\n",
    "\n",
    "def oracle(search_bit):\n",
    "    if search_bit == '00':\n",
    "        yield X(q0), X(q1)\n",
    "        yield TOFFOLI(q0, q1, q2)\n",
    "        yield X(q0), X(q1)\n",
    "        return\n",
    "    \n",
    "    if search_bit == '01':\n",
    "        yield X(q0)\n",
    "        yield TOFFOLI(q0, q1, q2)\n",
    "        yield X(q0)\n",
    "        return\n",
    "    \n",
    "    if search_bit == '10':\n",
    "        yield X(q1)\n",
    "        yield TOFFOLI(q0, q1, q2)\n",
    "        yield X(q1)\n",
    "        return\n",
    "    \n",
    "    if search_bit == '11':\n",
    "        yield TOFFOLI(q0, q1, q2)\n",
    "        return\n",
    "    \n",
    "def unit_of_grover(search_bit):\n",
    "    yield oracle(search_bit)\n",
    "    yield H(q0), H(q1)\n",
    "    yield X(q0), X(q1)\n",
    "    yield H(q1)\n",
    "    yield CNOT(q0, q1)\n",
    "    yield H(q1)\n",
    "    yield X(q0), X(q1)\n",
    "    yield H(q0), H(q1)\n",
    "\n",
    "def create_circuit_of_grover(search_bit):\n",
    "    yield X(q2)\n",
    "    yield H(q0), H(q1), H(q2)\n",
    "    yield unit_of_grover(search_bit)\n",
    "    yield H(q2)\n",
    "    yield measure(q0, key='q0'), measure(q1, key='q1'), measure(q2, key='q2')\n"
   ]
  },
  {
   "cell_type": "code",
   "execution_count": 5,
   "metadata": {},
   "outputs": [
    {
     "name": "stdout",
     "output_type": "stream",
     "text": [
      "0: ───H───X───@───X───H───X───────@───X───H───M('q0')─────────────\n",
      "              │                   │\n",
      "1: ───H───X───@───X───H───X───H───X───H───X───H─────────M('q1')───\n",
      "              │\n",
      "2: ───X───H───X───────────────────────────────H─────────M('q2')───\n",
      "q0=0\n",
      "q1=0\n",
      "q2=1\n"
     ]
    }
   ],
   "source": [
    "SEARCH_BIT = '00'\n",
    "circuit = Circuit()\n",
    "circuit.append(create_circuit_of_grover(SEARCH_BIT))\n",
    "simulator = Simulator()\n",
    "print(circuit)\n",
    "print(simulator.run(circuit))"
   ]
  },
  {
   "cell_type": "code",
   "execution_count": null,
   "metadata": {},
   "outputs": [],
   "source": []
  },
  {
   "cell_type": "code",
   "execution_count": null,
   "metadata": {},
   "outputs": [],
   "source": []
  }
 ],
 "metadata": {
  "kernelspec": {
   "display_name": "Python 3",
   "language": "python",
   "name": "python3"
  },
  "language_info": {
   "codemirror_mode": {
    "name": "ipython",
    "version": 3
   },
   "file_extension": ".py",
   "mimetype": "text/x-python",
   "name": "python",
   "nbconvert_exporter": "python",
   "pygments_lexer": "ipython3",
   "version": "3.6.6"
  }
 },
 "nbformat": 4,
 "nbformat_minor": 2
}
