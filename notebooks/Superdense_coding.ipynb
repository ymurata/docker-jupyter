{
 "cells": [
  {
   "cell_type": "code",
   "execution_count": 1,
   "metadata": {},
   "outputs": [],
   "source": [
    "from cirq import GridQubit, Circuit, Simulator, measure\n",
    "from cirq.ops import X, Z, H, CNOT\n",
    "\n",
    "q0, q1 = [GridQubit(0, x) for x in range(2)]\n",
    "\n",
    "def create_circuit_of_superdense_coding(sending_bit, meas=True):\n",
    "    if sending_bit not in ['00', '10', '01', '11']:\n",
    "        raise Exception('sending_bit (%s) is invalid value' % sending_bit)\n",
    "        \n",
    "    yield H(q0)\n",
    "    yield CNOT(q0, q1)\n",
    "   \n",
    "    if sending_bit == '00':\n",
    "        # when Alise send 00, then operate unit matrix\n",
    "        pass\n",
    "    elif sending_bit == '01':\n",
    "        yield X(q0)\n",
    "    elif sending_bit == '10':\n",
    "        yield Z(q0)\n",
    "    elif sending_bit == '11':\n",
    "        # operate iY\n",
    "        yield Z(q0), X(q0)\n",
    "    \n",
    "    yield CNOT(q0, q1)\n",
    "    yield H(q0)\n",
    "    if meas:\n",
    "        yield measure(q0,  key='q0'), measure(q1, key='q1')"
   ]
  },
  {
   "cell_type": "code",
   "execution_count": 2,
   "metadata": {},
   "outputs": [
    {
     "name": "stdout",
     "output_type": "stream",
     "text": [
      "circuit:\n",
      "(0, 0): ───H───@───X───@───H───M('q0')───\n",
      "               │       │\n",
      "(0, 1): ───────X───────X───────M('q1')───\n",
      "\n",
      "measure:\n",
      "q0=0\n",
      "q1=1\n"
     ]
    }
   ],
   "source": [
    "SENDING_BIT = '01'\n",
    "\n",
    "try:\n",
    "    circuit = Circuit()\n",
    "    circuit.append(create_circuit_of_superdense_coding(SENDING_BIT))\n",
    "    print('circuit:\\n%s\\n' % circuit)\n",
    "    simulator = Simulator()\n",
    "    print('measure:\\n%s' % simulator.run(circuit))\n",
    "except Exception as e:\n",
    "    print(e)\n"
   ]
  },
  {
   "cell_type": "code",
   "execution_count": null,
   "metadata": {},
   "outputs": [],
   "source": []
  }
 ],
 "metadata": {
  "kernelspec": {
   "display_name": "Python 3",
   "language": "python",
   "name": "python3"
  },
  "language_info": {
   "codemirror_mode": {
    "name": "ipython",
    "version": 3
   },
   "file_extension": ".py",
   "mimetype": "text/x-python",
   "name": "python",
   "nbconvert_exporter": "python",
   "pygments_lexer": "ipython3",
   "version": "3.6.6"
  }
 },
 "nbformat": 4,
 "nbformat_minor": 2
}
