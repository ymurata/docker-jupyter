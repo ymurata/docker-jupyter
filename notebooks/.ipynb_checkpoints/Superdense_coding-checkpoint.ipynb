{
 "cells": [
  {
   "cell_type": "code",
   "execution_count": 228,
   "metadata": {},
   "outputs": [],
   "source": [
    "from cirq import GridQubit, Circuit, Simulator, measure\n",
    "from cirq.ops import X, Z, H, CNOT\n",
    "\n",
    "q0, q1 = [GridQubit(0, x) for x in range(2)]\n",
    "\n",
    "def create_circuit_of_superdense_coding(meas=True, sending_bit):\n",
    "    yield H(q0)\n",
    "    yield CNOT(q0, q1)\n",
    "   \n",
    "    # TODO: add condition for sending bit\n",
    "    if sending_bit == '01':\n",
    "        yield Z(q0)\n",
    "    elif sending_bit == '10':\n",
    "        yield X(q0)\n",
    "    elif sending_bit == '11':\n",
    "        # operate iY\n",
    "    else:\n",
    "        # send 00\n",
    "        yield Z(q0), X(q0)\n",
    "    \n",
    "    yield CNOT(q1, q0)\n",
    "    yield H(q0)\n",
    "    if meas:\n",
    "        yield measure(q0,  key='q0'), measure(q1, key='q1')"
   ]
  },
  {
   "cell_type": "code",
   "execution_count": 226,
   "metadata": {},
   "outputs": [
    {
     "name": "stdout",
     "output_type": "stream",
     "text": [
      "(0, 0): ───H───@───X───H───M('q0')───\n",
      "               │   │\n",
      "(0, 1): ───────X───@───────M('q1')───\n"
     ]
    }
   ],
   "source": [
    "circuit = Circuit()\n",
    "circuit.append(create_superdense_coding_circuit())\n",
    "print(circuit)"
   ]
  },
  {
   "cell_type": "code",
   "execution_count": null,
   "metadata": {},
   "outputs": [],
   "source": []
  }
 ],
 "metadata": {
  "kernelspec": {
   "display_name": "Python 3",
   "language": "python",
   "name": "python3"
  },
  "language_info": {
   "codemirror_mode": {
    "name": "ipython",
    "version": 3
   },
   "file_extension": ".py",
   "mimetype": "text/x-python",
   "name": "python",
   "nbconvert_exporter": "python",
   "pygments_lexer": "ipython3",
   "version": "3.6.6"
  }
 },
 "nbformat": 4,
 "nbformat_minor": 2
}
