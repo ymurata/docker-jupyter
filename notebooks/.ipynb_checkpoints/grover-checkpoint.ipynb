{
 "cells": [
  {
   "cell_type": "code",
   "execution_count": 2,
   "metadata": {},
   "outputs": [
    {
     "name": "stdout",
     "output_type": "stream",
     "text": [
      "0 1 2\n"
     ]
    }
   ],
   "source": [
    "from cirq import LineQubit, Circuit, measure\n",
    "from cirq.ops import X, Z, H, CNOT\n",
    "\n",
    "q0, q1, q2 = [LineQubit(x) for x in range(3)]\n",
    "\n",
    "print(q0, q1, q2)\n",
    "\n",
    "def create_cirucit_of_grover(meas=True):\n",
    "    if meas:\n",
    "        pass"
   ]
  },
  {
   "cell_type": "code",
   "execution_count": null,
   "metadata": {},
   "outputs": [],
   "source": []
  }
 ],
 "metadata": {
  "kernelspec": {
   "display_name": "Python 3",
   "language": "python",
   "name": "python3"
  },
  "language_info": {
   "codemirror_mode": {
    "name": "ipython",
    "version": 3
   },
   "file_extension": ".py",
   "mimetype": "text/x-python",
   "name": "python",
   "nbconvert_exporter": "python",
   "pygments_lexer": "ipython3",
   "version": "3.6.6"
  }
 },
 "nbformat": 4,
 "nbformat_minor": 2
}
